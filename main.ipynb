{
 "cells": [
  {
   "cell_type": "markdown",
   "metadata": {},
   "source": [
    "# Homework 1\n",
    "\n",
    "**Name:** Oscar Eduardo Arámbula Vega\n",
    "\n",
    "**e-mail:** [oscar.arambula4388@alumnos.udg.mx](mailto:oscar.arambula4388@alumnos.udg.mx)"
   ]
  },
  {
   "cell_type": "markdown",
   "metadata": {},
   "source": [
    "# Modules\n",
    "\n"
   ]
  },
  {
   "cell_type": "code",
   "metadata": {
    "ExecuteTime": {
     "end_time": "2025-02-13T03:48:49.335115Z",
     "start_time": "2025-02-13T03:48:47.370853Z"
    }
   },
   "source": [
    "# Load modules\n",
    "import numpy as np\n",
    "import matplotlib.pyplot as plt"
   ],
   "outputs": [],
   "execution_count": 1
  },
  {
   "cell_type": "markdown",
   "metadata": {},
   "source": [
    "## **Activity 1:** Correlated Random Walk\n",
    "\n",
    "<details>\n",
    "  <summary style=\"cursor: pointer; color: gray\">Requirements</summary>\n",
    "\n",
    "  * Select rotations from a **Cauchy** distribution (scipy).\n",
    "  * Implement usign **Vec2d** class.\n",
    "  * Keep trajectory in a **numpy** array\n",
    "  * Visualize trajectory using **plotly** - 2D projection\n",
    "</details>"
   ]
  },
  {
   "cell_type": "code",
   "metadata": {
    "ExecuteTime": {
     "end_time": "2025-02-13T03:50:38.011302Z",
     "start_time": "2025-02-13T03:50:38.007744Z"
    }
   },
   "source": "# Some code\n",
   "outputs": [
    {
     "name": "stdout",
     "output_type": "stream",
     "text": [
      "3.13.1 (main, Jan 14 2025, 22:47:35) [MSC v.1942 64 bit (AMD64)]\n"
     ]
    }
   ],
   "execution_count": 2
  },
  {
   "metadata": {},
   "cell_type": "markdown",
   "source": [
    "## **Activity 2:** Lévy distribution - N different curves\n",
    "\n",
    "<details>\n",
    "  <summary style=\"cursor: pointer; color: gray\">Requirements</summary>\n",
    "\n",
    "  * Plot at least the 4 different curves shown in the figure using **plotly**.\n",
    "  * Each one of the curves corresponds to a different **alpha** value.\n",
    "  * Consider the following parameters: **m** = 3.0, **beta** = 0.\n",
    "</details>"
   ]
  },
  {
   "metadata": {},
   "cell_type": "code",
   "outputs": [],
   "execution_count": null,
   "source": "# Some code\n"
  },
  {
   "metadata": {},
   "cell_type": "markdown",
   "source": [
    "## **Activity 3:** Lévy distribution - Histogram + Curve\n",
    "\n",
    "<details>\n",
    "  <summary style=\"cursor: pointer; color: gray\">Requirements</summary>\n",
    "\n",
    "  * From a set of random values drawn from a **Lévy stable** distribution, get its histogram and compare it to the corresponding PDF curve.\n",
    "  * Visualize using **matplotlib**.\n",
    "</details>"
   ]
  },
  {
   "metadata": {},
   "cell_type": "code",
   "outputs": [],
   "execution_count": null,
   "source": "# Some code\n"
  },
  {
   "metadata": {},
   "cell_type": "markdown",
   "source": [
    "## **Activity 4:** Lévy flight - Vec2d - 1 Trajecotry\n",
    "\n",
    "<details>\n",
    "  <summary style=\"cursor: pointer; color: gray\">Requirements</summary>\n",
    "\n",
    "  * Generate a **Lévy flight** trajectory.\n",
    "  * Implement usign **Vec2d** class.\n",
    "  * Keep the trajectory in a **numpy** array\n",
    "  * Visualize trajectory using **plotly** - 3D projection\n",
    "</details>"
   ]
  },
  {
   "metadata": {},
   "cell_type": "code",
   "outputs": [],
   "execution_count": null,
   "source": "# Some code\n"
  },
  {
   "metadata": {},
   "cell_type": "markdown",
   "source": [
    "## **Activity 5:** Correlated Random Walk - Vec2d - N Trajectories\n",
    "\n",
    "<details>\n",
    "  <summary style=\"cursor: pointer; color: gray\">Requirements</summary>\n",
    "\n",
    "  * Generate as many **CRW** trajectories as specified on a control variable **n_traj**.\n",
    "  * Each of the trajectories should be generated using a **unique** Cauchy coefficient.\n",
    "  * Implement usign **Vec2d** class.\n",
    "  * Visualize trajectories using **plotly** - 3D projection\n",
    "</details>"
   ]
  },
  {
   "metadata": {},
   "cell_type": "code",
   "outputs": [],
   "execution_count": null,
   "source": "# Some code\n"
  }
 ],
 "metadata": {
  "language_info": {
   "name": "python"
  },
  "kernelspec": {
   "name": "python3",
   "language": "python",
   "display_name": "Python 3 (ipykernel)"
  }
 },
 "nbformat": 4,
 "nbformat_minor": 2
}
