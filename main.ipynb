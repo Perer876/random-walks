{
 "cells": [
  {
   "cell_type": "markdown",
   "metadata": {},
   "source": [
    "# Homework 1\n",
    "\n",
    "**Name:** Oscar Eduardo Arámbula Vega\n",
    "\n",
    "**e-mail:** [oscar.arambula4388@alumnos.udg.mx](mailto:oscar.arambula4388@alumnos.udg.mx)"
   ]
  },
  {
   "cell_type": "markdown",
   "metadata": {},
   "source": [
    "# Modules\n",
    "\n"
   ]
  },
  {
   "cell_type": "code",
   "metadata": {
    "ExecuteTime": {
     "end_time": "2025-02-14T06:12:27.473217Z",
     "start_time": "2025-02-14T06:12:27.470364Z"
    }
   },
   "source": [
    "# Load modules\n",
    "import numpy as np\n",
    "import matplotlib.pyplot as plt"
   ],
   "outputs": [],
   "execution_count": 5
  },
  {
   "cell_type": "markdown",
   "metadata": {},
   "source": [
    "## **Activity 1:** Correlated Random Walk\n",
    "\n",
    "<details>\n",
    "  <summary style=\"cursor: pointer; color: gray\">Requirements</summary>\n",
    "\n",
    "  * Select rotations from a **Cauchy** distribution (scipy).\n",
    "  * Implement usign **Vec2d** class.\n",
    "  * Keep trajectory in a **numpy** array\n",
    "  * Visualize trajectory using **plotly** - 2D projection\n",
    "</details>"
   ]
  },
  {
   "cell_type": "code",
   "metadata": {
    "ExecuteTime": {
     "end_time": "2025-02-14T06:12:33.658601Z",
     "start_time": "2025-02-14T06:12:33.571165Z"
    }
   },
   "source": [
    "# Init parameters\n",
    "from random_walks import vec2d\n",
    "\n",
    "n_steps = 1000\n",
    "s_pos = 0\n",
    "speed = 3\n",
    "\n",
    "# Init velocity vector\n",
    "velocity = np.array([speed, 0])\n",
    "\n",
    "# Angles\n",
    "angles = [0, np.pi / 2, np.pi, 3 * np.pi / 2]\n",
    "\n",
    "# Brownian Walker in 2d\n",
    "BM_2d = np.ones(shape=(n_steps, 2)) * s_pos\n",
    "\n",
    "for i in range(1, n_steps):\n",
    "    # Choose a random angle\n",
    "    turn_angle = np.random.choice(angles)\n",
    "    velocity = vec2d.rotate(velocity, turn_angle)\n",
    "\n",
    "    # Displace the particle\n",
    "    BM_2d[i, 0] = BM_2d[i - 1, 0] + velocity[0]\n",
    "    BM_2d[i, 1] = BM_2d[i - 1, 1] + velocity[1]\n",
    "plt.plot(BM_2d[:, 0], BM_2d[:, 1])\n",
    "plt.show()"
   ],
   "outputs": [
    {
     "data": {
      "text/plain": [
       "<Figure size 640x480 with 1 Axes>"
      ],
      "image/png": "[encoded data removed]"
     },
     "metadata": {},
     "output_type": "display_data"
    }
   ],
   "execution_count": 8
  },
  {
   "metadata": {},
   "cell_type": "markdown",
   "source": [
    "## **Activity 2:** Lévy distribution - N different curves\n",
    "\n",
    "<details>\n",
    "  <summary style=\"cursor: pointer; color: gray\">Requirements</summary>\n",
    "\n",
    "  * Plot at least the 4 different curves shown in the figure using **plotly**.\n",
    "  * Each one of the curves corresponds to a different **alpha** value.\n",
    "  * Consider the following parameters: **m** = 3.0, **beta** = 0.\n",
    "</details>"
   ]
  },
  {
   "metadata": {},
   "cell_type": "code",
   "outputs": [],
   "execution_count": null,
   "source": "# Some code\n"
  },
  {
   "metadata": {},
   "cell_type": "markdown",
   "source": [
    "## **Activity 3:** Lévy distribution - Histogram + Curve\n",
    "\n",
    "<details>\n",
    "  <summary style=\"cursor: pointer; color: gray\">Requirements</summary>\n",
    "\n",
    "  * From a set of random values drawn from a **Lévy stable** distribution, get its histogram and compare it to the corresponding PDF curve.\n",
    "  * Visualize using **matplotlib**.\n",
    "</details>"
   ]
  },
  {
   "metadata": {},
   "cell_type": "code",
   "outputs": [],
   "execution_count": null,
   "source": "# Some code\n"
  },
  {
   "metadata": {},
   "cell_type": "markdown",
   "source": [
    "## **Activity 4:** Lévy flight - Vec2d - 1 Trajecotry\n",
    "\n",
    "<details>\n",
    "  <summary style=\"cursor: pointer; color: gray\">Requirements</summary>\n",
    "\n",
    "  * Generate a **Lévy flight** trajectory.\n",
    "  * Implement usign **Vec2d** class.\n",
    "  * Keep the trajectory in a **numpy** array\n",
    "  * Visualize trajectory using **plotly** - 3D projection\n",
    "</details>"
   ]
  },
  {
   "metadata": {},
   "cell_type": "code",
   "outputs": [],
   "execution_count": null,
   "source": "# Some code\n"
  },
  {
   "metadata": {},
   "cell_type": "markdown",
   "source": [
    "## **Activity 5:** Correlated Random Walk - Vec2d - N Trajectories\n",
    "\n",
    "<details>\n",
    "  <summary style=\"cursor: pointer; color: gray\">Requirements</summary>\n",
    "\n",
    "  * Generate as many **CRW** trajectories as specified on a control variable **n_traj**.\n",
    "  * Each of the trajectories should be generated using a **unique** Cauchy coefficient.\n",
    "  * Implement usign **Vec2d** class.\n",
    "  * Visualize trajectories using **plotly** - 3D projection\n",
    "</details>"
   ]
  },
  {
   "metadata": {},
   "cell_type": "code",
   "outputs": [],
   "execution_count": null,
   "source": "# Some code\n"
  }
 ],
 "metadata": {
  "language_info": {
   "name": "python"
  },
  "kernelspec": {
   "name": "python3",
   "language": "python",
   "display_name": "Python 3 (ipykernel)"
  }
 },
 "nbformat": 4,
 "nbformat_minor": 2
}
